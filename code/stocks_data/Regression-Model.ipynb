{
 "cells": [
  {
   "cell_type": "code",
   "execution_count": 1,
   "metadata": {
    "collapsed": true
   },
   "outputs": [],
   "source": [
    "import numpy as np\n",
    "import pandas as pd\n",
    "import csv"
   ]
  },
  {
   "cell_type": "code",
   "execution_count": 2,
   "metadata": {
    "collapsed": true
   },
   "outputs": [],
   "source": [
    "def align_time(*series):#First parameter must be crypto\n",
    "    min_length = min([data.shape[0] for data in series])\n",
    "    res = []\n",
    "    for data in series:\n",
    "        data = data.reindex(series[0].index, method='nearest')\n",
    "        res.append(data)\n",
    "    return [data[:min_length] for data in res]"
   ]
  },
  {
   "cell_type": "code",
   "execution_count": 3,
   "metadata": {
    "collapsed": true
   },
   "outputs": [],
   "source": [
    "def data_prep(filename, index):\n",
    "    df = pd.read_csv(filename, sep=',', header=0, parse_dates=[0]) \n",
    "    df['time'] = pd.to_datetime(df['time'])\n",
    "    stock_data = df.values\n",
    "    ret = pd.Series(stock_data[:, index], index=df['time'])\n",
    "    return ret"
   ]
  },
  {
   "cell_type": "code",
   "execution_count": 101,
   "metadata": {},
   "outputs": [],
   "source": [
    "headers = ['time', 'close', 'volume', 'low', 'high', 'open']\n",
    "btc = data_prep('BTC-USD.csv', 1)\n",
    "goog = data_prep('GOOG.csv', 1)\n",
    "aapl = data_prep('AAPL.csv', 1)\n",
    "ixic = data_prep('^IXIC.csv', 1)\n",
    "gspc = data_prep('^GSPC.csv', 1)\n",
    "dji = data_prep('^DJI.csv', 1)\n",
    "amd = data_prep('amd.csv', 1)\n",
    "nvda = data_prep('nvda.csv', 1)\n",
    "btc, goog, aapl, ixic, gspc, dji, amd, nvda = align_time(btc, goog, aapl, ixic, gspc, dji, amd, nvda)\n",
    "X = pd.concat([goog, aapl, ixic, gspc, dji, amd, nvda], axis=1)\n",
    "y = btc.rolling(10).mean().fillna(method='bfill')"
   ]
  },
  {
   "cell_type": "code",
   "execution_count": 110,
   "metadata": {},
   "outputs": [],
   "source": [
    "from sklearn import linear_model\n",
    "#lreg = linear_model.LinearRegression()\n",
    "rreg = linear_model.Ridge(alpha=2e5)\n",
    "#lareg = linear_model.Lasso()\n",
    "#lreg.fit(X, y)\n",
    "rreg.fit(X, y)\n",
    "#lareg.fit(X, btc)\n",
    "prediction = pd.Series(rreg.predict(X))"
   ]
  },
  {
   "cell_type": "code",
   "execution_count": 68,
   "metadata": {
    "collapsed": true
   },
   "outputs": [],
   "source": [
    "import matplotlib.pyplot as plt\n",
    "%matplotlib inline"
   ]
  },
  {
   "cell_type": "code",
   "execution_count": 111,
   "metadata": {},
   "outputs": [
    {
     "data": {
      "image/png": "[encoded data removed]",
      "text/plain": [
       "<matplotlib.figure.Figure at 0xa32be2208>"
      ]
     },
     "metadata": {},
     "output_type": "display_data"
    }
   ],
   "source": [
    "fig = plt.figure()\n",
    "plt.plot(y.values, 'b-')\n",
    "plt.plot(prediction, 'r-')\n",
    "plt.show()"
   ]
  },
  {
   "cell_type": "code",
   "execution_count": null,
   "metadata": {
    "collapsed": true
   },
   "outputs": [],
   "source": []
  }
 ],
 "metadata": {
  "kernelspec": {
   "display_name": "Python 3",
   "language": "python",
   "name": "python3"
  },
  "language_info": {
   "codemirror_mode": {
    "name": "ipython",
    "version": 3
   },
   "file_extension": ".py",
   "mimetype": "text/x-python",
   "name": "python",
   "nbconvert_exporter": "python",
   "pygments_lexer": "ipython3",
   "version": "3.6.3"
  }
 },
 "nbformat": 4,
 "nbformat_minor": 2
}
