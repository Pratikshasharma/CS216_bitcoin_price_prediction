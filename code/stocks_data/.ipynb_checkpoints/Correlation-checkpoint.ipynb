{
 "cells": [
  {
   "cell_type": "code",
   "execution_count": 1,
   "metadata": {},
   "outputs": [
    {
     "name": "stdout",
     "output_type": "stream",
     "text": [
      "Collecting requests\n",
      "  Using cached requests-2.18.4-py2.py3-none-any.whl\n",
      "Collecting certifi>=2017.4.17 (from requests)\n",
      "  Using cached certifi-2018.1.18-py2.py3-none-any.whl\n",
      "Collecting chardet<3.1.0,>=3.0.2 (from requests)\n",
      "  Using cached chardet-3.0.4-py2.py3-none-any.whl\n",
      "Collecting idna<2.7,>=2.5 (from requests)\n",
      "  Using cached idna-2.6-py2.py3-none-any.whl\n",
      "Collecting urllib3<1.23,>=1.21.1 (from requests)\n",
      "  Using cached urllib3-1.22-py2.py3-none-any.whl\n",
      "Installing collected packages: certifi, chardet, idna, urllib3, requests\n",
      "Successfully installed certifi-2018.1.18 chardet-3.0.4 idna-2.6 requests-2.18.4 urllib3-1.22\n",
      "\u001b[33mYou are using pip version 8.1.1, however version 9.0.1 is available.\n",
      "You should consider upgrading via the 'pip install --upgrade pip' command.\u001b[0m\n",
      "Collecting numpy\n",
      "  Using cached numpy-1.14.1-cp27-cp27mu-manylinux1_x86_64.whl\n",
      "Installing collected packages: numpy\n",
      "Successfully installed numpy-1.14.0\n",
      "\u001b[33mYou are using pip version 8.1.1, however version 9.0.1 is available.\n",
      "You should consider upgrading via the 'pip install --upgrade pip' command.\u001b[0m\n",
      "Collecting pandas\n",
      "  Using cached pandas-0.22.0-cp27-cp27mu-manylinux1_x86_64.whl\n",
      "Collecting python-dateutil (from pandas)\n",
      "  Using cached python_dateutil-2.6.1-py2.py3-none-any.whl\n",
      "Collecting numpy>=1.9.0 (from pandas)\n",
      "  Using cached numpy-1.14.1-cp27-cp27mu-manylinux1_x86_64.whl\n",
      "Collecting pytz>=2011k (from pandas)\n",
      "  Using cached pytz-2018.3-py2.py3-none-any.whl\n",
      "Collecting six>=1.5 (from python-dateutil->pandas)\n",
      "  Using cached six-1.11.0-py2.py3-none-any.whl\n",
      "Installing collected packages: six, python-dateutil, numpy, pytz, pandas\n",
      "Successfully installed numpy-1.14.0 pandas-0.22.0 python-dateutil-2.6.1 pytz-2018.3 six-1.11.0\n",
      "\u001b[33mYou are using pip version 8.1.1, however version 9.0.1 is available.\n",
      "You should consider upgrading via the 'pip install --upgrade pip' command.\u001b[0m\n"
     ]
    }
   ],
   "source": [
    "!pip install --user requests\n",
    "!pip install --user numpy\n",
    "!pip install --user pandas"
   ]
  },
  {
   "cell_type": "code",
   "execution_count": 5,
   "metadata": {},
   "outputs": [],
   "source": [
    "import numpy as np\n",
    "import pandas as pd\n",
    "import csv"
   ]
  },
  {
   "cell_type": "code",
   "execution_count": 50,
   "metadata": {},
   "outputs": [],
   "source": [
    "def data_prep(filename, index):\n",
    "    df = pd.read_csv(filename, sep=',', header=0, parse_dates=[0]) \n",
    "    df['time'] = pd.to_datetime(df['time'])\n",
    "    stock_data = df.values\n",
    "    ret = pd.Series(stock_data[:, index], index=df['time'])\n",
    "    return ret"
   ]
  },
  {
   "cell_type": "code",
   "execution_count": 51,
   "metadata": {},
   "outputs": [],
   "source": [
    "def corrcoeff(x, y):\n",
    "    return y.astype('float64').corr(x.reindex(y.index, method = 'pad').astype('float64'))"
   ]
  },
  {
   "cell_type": "code",
   "execution_count": 56,
   "metadata": {},
   "outputs": [
    {
     "name": "stdout",
     "output_type": "stream",
     "text": [
      "close 0.5673871914569191\n",
      "volume 0.6598827653136546\n",
      "low 0.6579712946919664\n",
      "high 0.6597141186038544\n",
      "open -0.27150486103106053\n"
     ]
    }
   ],
   "source": [
    "if __name__=='__main__':\n",
    "    headers = ['time', 'close', 'volume', 'low', 'high', 'open']\n",
    "    for i in range(1,6):\n",
    "        btc = data_prep('BTC-USD.csv', i)\n",
    "        goog = data_prep('AAPL.csv', i)\n",
    "        print headers[i], corrcoeff(btc, goog)"
   ]
  },
  {
   "cell_type": "code",
   "execution_count": null,
   "metadata": {},
   "outputs": [],
   "source": []
  },
  {
   "cell_type": "code",
   "execution_count": null,
   "metadata": {},
   "outputs": [],
   "source": []
  }
 ],
 "metadata": {
  "kernelspec": {
   "display_name": "Python 2",
   "language": "python",
   "name": "python2"
  },
  "language_info": {
   "codemirror_mode": {
    "name": "ipython",
    "version": 2
   },
   "file_extension": ".py",
   "mimetype": "text/x-python",
   "name": "python",
   "nbconvert_exporter": "python",
   "pygments_lexer": "ipython2",
   "version": "2.7.12"
  }
 },
 "nbformat": 4,
 "nbformat_minor": 2
}
