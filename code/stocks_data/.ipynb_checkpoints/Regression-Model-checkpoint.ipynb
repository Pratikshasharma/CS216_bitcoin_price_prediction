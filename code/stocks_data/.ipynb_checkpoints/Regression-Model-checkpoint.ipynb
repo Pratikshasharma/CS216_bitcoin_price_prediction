{
 "cells": [
  {
   "cell_type": "code",
   "execution_count": 1,
   "metadata": {},
   "outputs": [],
   "source": [
    "import numpy as np\n",
    "import pandas as pd\n",
    "import csv"
   ]
  },
  {
   "cell_type": "code",
   "execution_count": 99,
   "metadata": {},
   "outputs": [],
   "source": [
    "def align_time(*series):#First parameter must be crypto\n",
    "    min_length = min([data.shape[0] for data in series])\n",
    "    res = []\n",
    "    for data in series:\n",
    "        data = data.reindex(series[0].index, method='nearest')\n",
    "        res.append(data)\n",
    "    return [data[:min_length] for data in res]"
   ]
  },
  {
   "cell_type": "code",
   "execution_count": 131,
   "metadata": {},
   "outputs": [],
   "source": [
    "def data_prep_mul(filename, column):\n",
    "    df = pd.read_csv(filename, sep=',', header=0, parse_dates=[0]) \n",
    "    if(filename == 'BTC-USD.csv'):\n",
    "        df2 = pd.read_csv('multiplier.csv',sep=',', header=0,parse_dates=[0])\n",
    "        df['time'] = pd.to_datetime(df['time'])\n",
    "        df['Date'] = df['time'].dt.date\n",
    "        df2['Date'] = pd.to_datetime(df2['Date'])\n",
    "        df2['Date'] = df2['Date'].dt.date\n",
    "        newdf = pd.merge(df, df2, on='Date', how='left').fillna(1)\n",
    "        \n",
    "        newdf['close'] = newdf['close']*newdf['Multiplier']\n",
    "    \n",
    "#         print (newdf['close']!=df['close'])\n",
    "        \n",
    "    df = newdf\n",
    "    index = df.columns.get_loc(column)\n",
    "    stock_data = df.values\n",
    "    ret = pd.Series(stock_data[:,index], index=df['time'])\n",
    "    ret = ret.apply(pd.to_numeric,errors='coerce')\n",
    "    ret.fillna(method='bfill',inplace=True)\n",
    "    return ret\n",
    "\n"
   ]
  },
  {
   "cell_type": "code",
   "execution_count": 132,
   "metadata": {},
   "outputs": [],
   "source": [
    "def data_prep(filename, column):\n",
    "    df = pd.read_csv(filename, sep=',', header=0, parse_dates=[0]) \n",
    "    df['time'] = pd.to_datetime(df['time'])\n",
    "    index = df.columns.get_loc(column)\n",
    "    stock_data = df.values\n",
    "    ret = pd.Series(stock_data[:,index], index=df['time'])\n",
    "    ret = ret.apply(pd.to_numeric,errors='coerce')\n",
    "    ret.fillna(method='bfill',inplace=True)\n",
    "    return ret"
   ]
  },
  {
   "cell_type": "code",
   "execution_count": 133,
   "metadata": {},
   "outputs": [],
   "source": [
    "headers = ['time', 'close', 'volume', 'low', 'high', 'open']\n",
    "column = 'close'\n",
    "btc = data_prep('BTC-USD.csv', column)\n",
    "btc_mul = data_prep_mul('BTC-USD.csv', column)\n",
    "\n",
    "goog = data_prep('GOOG.csv', column)\n",
    "aapl = data_prep('AAPL.csv', column)\n",
    "ixic = data_prep('^IXIC.csv', column)\n",
    "gspc = data_prep('^GSPC.csv', column)\n",
    "dji = data_prep('^DJI.csv', column)\n",
    "amd = data_prep('AMD.csv', column)\n",
    "nvda = data_prep('NVDA.csv', column)\n",
    "tsm = data_prep('TSM.csv', column)\n",
    "ssnlf = data_prep('SSNLF.csv', column)\n",
    "gs = data_prep('GS.csv', column)\n",
    "jpm = data_prep('JPM.csv', column)\n",
    "bcs = data_prep('BCS.csv', column)\n",
    "bac = data_prep('BAC.csv', column)\n",
    "ms = data_prep('MS.csv', column)\n",
    "db = data_prep('DB.csv', column)\n",
    "c = data_prep('C.csv', column)\n",
    "cs = data_prep('CS.csv', column)\n",
    "ubs = data_prep('UBS.csv', column)\n",
    "hsbc = data_prep('HSBC.csv', column)\n",
    "\n",
    "btc,btc_mul, goog, aapl, ixic, gspc, dji, amd, nvda,tsm,ssnlf,gs,jpm,bcs,bac,ms,db,c,cs,ubs,hsbc = align_time(btc, btc_mul,goog, aapl, ixic, gspc, dji, amd,nvda,tsm,ssnlf,gs,jpm,bcs,bac,ms,db,c,cs,ubs,hsbc)\n",
    "\n",
    "X = pd.concat([goog, aapl, ixic, gspc, dji, amd, nvda,tsm,ssnlf,gs,jpm,bcs,bac,ms,db,c,cs,ubs,hsbc], axis=1)[::-1]\n",
    "\n",
    "\n",
    "y = btc.rolling(10).mean().fillna(method='bfill')[::-1]\n",
    "y2  = btc_mul.rolling(10).mean().fillna(method='bfill')[::-1]\n",
    "\n",
    "df = pd.DataFrame(X)\n",
    "#print(df[df.isnull().any(axis=1)])\n",
    "\n",
    "\n",
    "\n",
    "#df = pd.DataFrame(y)\n",
    "#print(df[df.isnull().any(axis=1)])\n",
    "y.fillna(method='bfill', inplace=True)\n",
    "y2.fillna(method='bfill', inplace=True)\n",
    "X.fillna(method='bfill', inplace=True)\n",
    "\n",
    "\n"
   ]
  },
  {
   "cell_type": "code",
   "execution_count": 134,
   "metadata": {},
   "outputs": [
    {
     "name": "stdout",
     "output_type": "stream",
     "text": [
      "0.9796715072070552\n",
      "0.9801024905088976\n"
     ]
    }
   ],
   "source": [
    "from sklearn import linear_model\n",
    "#lreg = linear_model.LinearRegression()\n",
    "rreg = linear_model.Ridge(alpha=2e5)\n",
    "#lareg = linear_model.Lasso()\n",
    "#lreg.fit(X, y)\n",
    "rreg.fit(X, np.log(y))\n",
    "#lareg.fit(X, btc)\n",
    "prediction = pd.Series(rreg.predict(X))\n",
    "score = rreg.score(X,np.log(y),sample_weight=None)\n",
    "\n",
    "\n",
    "# With multiplier\n",
    "rreg2 = linear_model.Ridge(alpha=2e5)\n",
    "#lareg = linear_model.Lasso()\n",
    "#lreg.fit(X, y)\n",
    "rreg2.fit(X, np.log(y2))\n",
    "#lareg.fit(X, btc)\n",
    "prediction2 = pd.Series(rreg2.predict(X))\n",
    "score2 = rreg.score(X,np.log(y2),sample_weight=None)\n",
    "\n",
    "print(score)\n",
    "print(score2)\n",
    "\n"
   ]
  },
  {
   "cell_type": "code",
   "execution_count": 135,
   "metadata": {},
   "outputs": [],
   "source": [
    "import matplotlib.pyplot as plt\n",
    "%matplotlib inline"
   ]
  },
  {
   "cell_type": "code",
   "execution_count": 136,
   "metadata": {},
   "outputs": [
    {
     "data": {
      "image/png": "[encoded data removed]",
      "text/plain": [
       "<matplotlib.figure.Figure at 0x107a95a58>"
      ]
     },
     "metadata": {},
     "output_type": "display_data"
    },
    {
     "data": {
      "image/png": "[encoded data removed]",
      "text/plain": [
       "<matplotlib.figure.Figure at 0x107a9ab00>"
      ]
     },
     "metadata": {},
     "output_type": "display_data"
    }
   ],
   "source": [
    "fig = plt.figure()\n",
    "plt.plot(np.log(y.values), 'b-')\n",
    "plt.plot(prediction, 'r-')\n",
    "plt.xlabel('days')\n",
    "plt.ylabel('log(closing prices)')\n",
    "plt.show()\n",
    "\n",
    "\n",
    "\n",
    "plt.plot(np.log(y2.values), 'b-')\n",
    "plt.plot(prediction2, 'r-')\n",
    "plt.xlabel('days')\n",
    "plt.ylabel('log(closing prices)')\n",
    "plt.show()\n"
   ]
  },
  {
   "cell_type": "code",
   "execution_count": null,
   "metadata": {
    "collapsed": true
   },
   "outputs": [],
   "source": []
  }
 ],
 "metadata": {
  "kernelspec": {
   "display_name": "Python 3",
   "language": "python",
   "name": "python3"
  },
  "language_info": {
   "codemirror_mode": {
    "name": "ipython",
    "version": 3
   },
   "file_extension": ".py",
   "mimetype": "text/x-python",
   "name": "python",
   "nbconvert_exporter": "python",
   "pygments_lexer": "ipython3",
   "version": "3.6.4"
  }
 },
 "nbformat": 4,
 "nbformat_minor": 2
}
