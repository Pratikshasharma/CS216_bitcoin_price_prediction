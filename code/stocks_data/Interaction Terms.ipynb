{
 "cells": [
  {
   "cell_type": "code",
   "execution_count": null,
   "metadata": {},
   "outputs": [],
   "source": [
    "#create method that takes lists of values as vairables eg x1, x2, x3\n",
    "#outputs list of lists with interaction coefficients and degrees eg x1*x2 "
   ]
  },
  {
   "cell_type": "code",
   "execution_count": 1,
   "metadata": {},
   "outputs": [
    {
     "name": "stdout",
     "output_type": "stream",
     "text": [
      "Collecting numpy\n",
      "  Downloading numpy-1.14.2-cp27-cp27mu-manylinux1_x86_64.whl (12.1MB)\n",
      "\u001b[K    100% |████████████████████████████████| 12.1MB 85kB/s  eta 0:00:01\n",
      "\u001b[?25hInstalling collected packages: numpy\n",
      "Successfully installed numpy-1.14.0\n",
      "\u001b[33mYou are using pip version 8.1.1, however version 9.0.2 is available.\n",
      "You should consider upgrading via the 'pip install --upgrade pip' command.\u001b[0m\n",
      "Collecting scipy\n",
      "  Using cached scipy-1.0.0-cp27-cp27mu-manylinux1_x86_64.whl\n",
      "Collecting numpy>=1.8.2 (from scipy)\n",
      "  Using cached numpy-1.14.2-cp27-cp27mu-manylinux1_x86_64.whl\n",
      "Installing collected packages: numpy, scipy\n",
      "Successfully installed numpy-1.14.0 scipy-1.0.0\n",
      "\u001b[33mYou are using pip version 8.1.1, however version 9.0.2 is available.\n",
      "You should consider upgrading via the 'pip install --upgrade pip' command.\u001b[0m\n",
      "Collecting scikit-learn\n",
      "  Using cached scikit_learn-0.19.1-cp27-cp27mu-manylinux1_x86_64.whl\n",
      "Installing collected packages: scikit-learn\n",
      "Successfully installed scikit-learn-0.19.1\n",
      "\u001b[33mYou are using pip version 8.1.1, however version 9.0.2 is available.\n",
      "You should consider upgrading via the 'pip install --upgrade pip' command.\u001b[0m\n"
     ]
    }
   ],
   "source": [
    "!pip install --user numpy\n",
    "!pip install --user scipy\n",
    "!pip install --user scikit-learn"
   ]
  },
  {
   "cell_type": "code",
   "execution_count": 8,
   "metadata": {},
   "outputs": [
    {
     "name": "stdout",
     "output_type": "stream",
     "text": [
      "\n"
     ]
    }
   ],
   "source": [
    "from sklearn.preprocessing import PolynomialFeatures\n",
    "import numpy as np"
   ]
  },
  {
   "cell_type": "code",
   "execution_count": 9,
   "metadata": {},
   "outputs": [],
   "source": [
    "# This function takes a list of value lists as its first argument, and a list of degrees to be explored as its second\n",
    "def int_terms(lst, degree):\n",
    "    y = np.array(lst)\n",
    "    for d in degree:\n",
    "        poly = PolynomialFeatures(d)\n",
    "        print 'degree: ', d\n",
    "        print poly.fit_transform(y)\n",
    "        print 'interaction terms: ', poly.get_feature_names()"
   ]
  },
  {
   "cell_type": "code",
   "execution_count": 10,
   "metadata": {},
   "outputs": [
    {
     "name": "stdout",
     "output_type": "stream",
     "text": [
      "degree:  1\n",
      "[[1. 1. 2. 3.]\n",
      " [1. 2. 5. 7.]]\n",
      "interaction terms:  ['1', 'x0', 'x1', 'x2']\n",
      "degree:  2\n",
      "[[ 1.  1.  2.  3.  1.  2.  3.  4.  6.  9.]\n",
      " [ 1.  2.  5.  7.  4. 10. 14. 25. 35. 49.]]\n",
      "interaction terms:  ['1', 'x0', 'x1', 'x2', 'x0^2', 'x0 x1', 'x0 x2', 'x1^2', 'x1 x2', 'x2^2']\n"
     ]
    }
   ],
   "source": [
    "if __name__=='__main__':\n",
    "    int_terms([[1,2,3],[2,5,7]], [1,2])"
   ]
  },
  {
   "cell_type": "code",
   "execution_count": null,
   "metadata": {},
   "outputs": [],
   "source": []
  },
  {
   "cell_type": "code",
   "execution_count": null,
   "metadata": {},
   "outputs": [],
   "source": []
  }
 ],
 "metadata": {
  "kernelspec": {
   "display_name": "Python 2",
   "language": "python",
   "name": "python2"
  },
  "language_info": {
   "codemirror_mode": {
    "name": "ipython",
    "version": 2
   },
   "file_extension": ".py",
   "mimetype": "text/x-python",
   "name": "python",
   "nbconvert_exporter": "python",
   "pygments_lexer": "ipython2",
   "version": "2.7.12"
  }
 },
 "nbformat": 4,
 "nbformat_minor": 2
}
