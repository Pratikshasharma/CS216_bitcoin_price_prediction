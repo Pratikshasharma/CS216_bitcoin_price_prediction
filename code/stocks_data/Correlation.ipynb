{
 "cells": [
  {
   "cell_type": "code",
   "execution_count": 1,
   "metadata": {},
   "outputs": [
    {
     "name": "stdout",
     "output_type": "stream",
     "text": [
      "Collecting requests\n",
      "  Using cached requests-2.18.4-py2.py3-none-any.whl\n",
      "Collecting certifi>=2017.4.17 (from requests)\n",
      "  Using cached certifi-2018.1.18-py2.py3-none-any.whl\n",
      "Collecting chardet<3.1.0,>=3.0.2 (from requests)\n",
      "  Using cached chardet-3.0.4-py2.py3-none-any.whl\n",
      "Collecting idna<2.7,>=2.5 (from requests)\n",
      "  Using cached idna-2.6-py2.py3-none-any.whl\n",
      "Collecting urllib3<1.23,>=1.21.1 (from requests)\n",
      "  Using cached urllib3-1.22-py2.py3-none-any.whl\n",
      "Installing collected packages: certifi, chardet, idna, urllib3, requests\n",
      "Successfully installed certifi-2018.1.18 chardet-3.0.4 idna-2.6 requests-2.18.4 urllib3-1.22\n",
      "\u001b[33mYou are using pip version 8.1.1, however version 9.0.1 is available.\n",
      "You should consider upgrading via the 'pip install --upgrade pip' command.\u001b[0m\n",
      "Collecting numpy\n",
      "  Using cached numpy-1.14.1-cp27-cp27mu-manylinux1_x86_64.whl\n",
      "Installing collected packages: numpy\n",
      "Successfully installed numpy-1.14.0\n",
      "\u001b[33mYou are using pip version 8.1.1, however version 9.0.1 is available.\n",
      "You should consider upgrading via the 'pip install --upgrade pip' command.\u001b[0m\n",
      "Collecting pandas\n",
      "  Using cached pandas-0.22.0-cp27-cp27mu-manylinux1_x86_64.whl\n",
      "Collecting python-dateutil (from pandas)\n",
      "  Using cached python_dateutil-2.6.1-py2.py3-none-any.whl\n",
      "Collecting numpy>=1.9.0 (from pandas)\n",
      "  Using cached numpy-1.14.1-cp27-cp27mu-manylinux1_x86_64.whl\n",
      "Collecting pytz>=2011k (from pandas)\n",
      "  Using cached pytz-2018.3-py2.py3-none-any.whl\n",
      "Collecting six>=1.5 (from python-dateutil->pandas)\n",
      "  Using cached six-1.11.0-py2.py3-none-any.whl\n",
      "Installing collected packages: six, python-dateutil, numpy, pytz, pandas\n",
      "Successfully installed numpy-1.14.0 pandas-0.22.0 python-dateutil-2.6.1 pytz-2018.3 six-1.11.0\n",
      "\u001b[33mYou are using pip version 8.1.1, however version 9.0.1 is available.\n",
      "You should consider upgrading via the 'pip install --upgrade pip' command.\u001b[0m\n"
     ]
    }
   ],
   "source": [
    "!pip install --user requests\n",
    "!pip install --user numpy\n",
    "!pip install --user pandas"
   ]
  },
  {
   "cell_type": "code",
   "execution_count": 1,
   "metadata": {
    "collapsed": true
   },
   "outputs": [],
   "source": [
    "import numpy as np\n",
    "import pandas as pd\n",
    "import csv"
   ]
  },
  {
   "cell_type": "code",
   "execution_count": 2,
   "metadata": {
    "collapsed": true
   },
   "outputs": [],
   "source": [
    "def data_prep(filename, index):\n",
    "    df = pd.read_csv(filename, sep=',', header=0, parse_dates=[0]) \n",
    "    df['time'] = pd.to_datetime(df['time'])\n",
    "    stock_data = df.values\n",
    "    ret = pd.Series(stock_data[:, index], index=df['time'])\n",
    "    return ret"
   ]
  },
  {
   "cell_type": "code",
   "execution_count": 8,
   "metadata": {
    "collapsed": true
   },
   "outputs": [],
   "source": [
    "def corrcoeff(x, y):\n",
    "    return y.astype('float64').corr(x.reindex(y.index, method = 'nearest').astype('float64'))"
   ]
  },
  {
   "cell_type": "code",
   "execution_count": 9,
   "metadata": {},
   "outputs": [
    {
     "name": "stdout",
     "output_type": "stream",
     "text": [
      "close 0.5673871914569191\n",
      "volume 0.6598827653136549\n",
      "low 0.657971294691966\n",
      "high 0.6597141186038542\n",
      "open -0.27150486103106064\n"
     ]
    }
   ],
   "source": [
    "if __name__=='__main__':\n",
    "    headers = ['time', 'close', 'volume', 'low', 'high', 'open']\n",
    "    for i in range(1,6):\n",
    "        btc = data_prep('BTC-USD.csv', i)\n",
    "        goog = data_prep('AAPL.csv', i)\n",
    "        print headers[i], corrcoeff(btc, goog)"
   ]
  },
  {
   "cell_type": "code",
   "execution_count": 5,
   "metadata": {},
   "outputs": [
    {
     "data": {
      "text/plain": [
       "time\n",
       "2018-03-07 09:28:46     536594080\n",
       "2018-03-05 19:00:00    1210081181\n",
       "2018-03-04 19:00:00     791471905\n",
       "2018-03-03 19:00:00     690727335\n",
       "2018-03-02 19:00:00     812200126\n",
       "2018-03-01 19:00:00     852908489\n",
       "2018-02-28 19:00:00     952472120\n",
       "2018-02-27 19:00:00    1126074675\n",
       "2018-02-26 19:00:00    1060840699\n",
       "2018-02-25 19:00:00    1181729273\n",
       "2018-02-24 19:00:00     793093192\n",
       "2018-02-23 19:00:00    1244484468\n",
       "2018-02-22 19:00:00    1399448203\n",
       "2018-02-21 19:00:00    1795951829\n",
       "2018-02-20 19:00:00    1982721124\n",
       "2018-02-19 19:00:00    1640343867\n",
       "2018-02-18 19:00:00    1186535653\n",
       "2018-02-17 19:00:00    1659704217\n",
       "2018-02-16 19:00:00    1327921168\n",
       "2018-02-15 19:00:00    1061827697\n",
       "2018-02-14 19:00:00    1666668487\n",
       "2018-02-13 19:00:00    1220863360\n",
       "2018-02-12 19:00:00     853320352\n",
       "2018-02-11 19:00:00    1085921871\n",
       "2018-02-10 19:00:00    1013771945\n",
       "2018-02-09 19:00:00    1348923336\n",
       "2018-02-08 19:00:00    1348072086\n",
       "2018-02-07 19:00:00    1594673973\n",
       "2018-02-06 19:00:00    2159765331\n",
       "2018-02-05 19:00:00    3397596513\n",
       "                          ...    \n",
       "2013-04-02 19:00:00      19533010\n",
       "2013-04-01 19:00:00       8747147\n",
       "2013-03-31 19:00:00       9060022\n",
       "2013-03-30 20:00:00       1959050\n",
       "2013-03-29 20:00:00       3420002\n",
       "2013-03-28 20:00:00       7384104\n",
       "2013-03-27 20:00:00      12261153\n",
       "2013-03-26 20:00:00       6129700\n",
       "2013-03-25 20:00:00       4377374\n",
       "2013-03-24 20:00:00       5921197\n",
       "2013-03-23 20:00:00       2896432\n",
       "2013-03-22 20:00:00       9429382\n",
       "2013-03-21 20:00:00       5171296\n",
       "2013-03-20 20:00:00       6514880\n",
       "2013-03-19 20:00:00       5776620\n",
       "2013-03-18 20:00:00       6187650\n",
       "2013-03-17 20:00:00       3199314\n",
       "2013-03-16 20:00:00        660618\n",
       "2013-03-15 20:00:00        764861\n",
       "2013-03-14 20:00:00        954285\n",
       "2013-03-13 20:00:00       1752628\n",
       "2013-03-12 20:00:00       2298258\n",
       "2013-03-11 20:00:00       8014901\n",
       "2013-03-10 20:00:00       1970814\n",
       "2013-03-09 19:00:00       1703124\n",
       "2013-03-08 19:00:00       2020839\n",
       "2013-03-07 19:00:00       2032649\n",
       "2013-03-06 19:00:00       6439707\n",
       "2013-03-05 19:00:00       5712472\n",
       "2013-03-04 19:00:00       3361374\n",
       "Length: 1829, dtype: object"
      ]
     },
     "execution_count": 5,
     "metadata": {},
     "output_type": "execute_result"
    }
   ],
   "source": [
    "data_prep('BTC-USD.csv', 1)"
   ]
  },
  {
   "cell_type": "code",
   "execution_count": 7,
   "metadata": {},
   "outputs": [
    {
     "data": {
      "text/plain": [
       "time\n",
       "2018-03-02 09:30:00      176.3\n",
       "2018-03-01 09:30:00     179.78\n",
       "2018-02-28 09:30:00     180.62\n",
       "2018-02-27 09:30:00     180.48\n",
       "2018-02-26 09:30:00     179.39\n",
       "2018-02-23 09:30:00     175.65\n",
       "2018-02-22 09:30:00     173.95\n",
       "2018-02-21 09:30:00     174.12\n",
       "2018-02-20 09:30:00     174.26\n",
       "2018-02-16 09:30:00     174.82\n",
       "2018-02-15 09:30:00     173.09\n",
       "2018-02-14 09:30:00     167.54\n",
       "2018-02-13 09:30:00     164.75\n",
       "2018-02-12 09:30:00     163.89\n",
       "2018-02-09 09:30:00     157.89\n",
       "2018-02-08 09:30:00        161\n",
       "2018-02-07 09:30:00      163.4\n",
       "2018-02-06 09:30:00     163.72\n",
       "2018-02-05 09:30:00     163.88\n",
       "2018-02-02 09:30:00      166.8\n",
       "2018-02-01 09:30:00     168.62\n",
       "2018-01-31 09:30:00     168.44\n",
       "2018-01-30 09:30:00     167.37\n",
       "2018-01-29 09:30:00     170.16\n",
       "2018-01-26 09:30:00        172\n",
       "2018-01-25 09:30:00     174.95\n",
       "2018-01-24 09:30:00      177.3\n",
       "2018-01-23 09:30:00     179.44\n",
       "2018-01-22 09:30:00     177.78\n",
       "2018-01-19 09:30:00     179.58\n",
       "                        ...   \n",
       "2013-04-16 09:30:00    60.9443\n",
       "2013-04-15 09:30:00    61.1271\n",
       "2013-04-12 09:30:00    62.0214\n",
       "2013-04-11 09:30:00      62.57\n",
       "2013-04-10 09:30:00    62.4371\n",
       "2013-04-09 09:30:00    61.2143\n",
       "2013-04-08 09:30:00    61.0714\n",
       "2013-04-05 09:30:00    60.7071\n",
       "2013-04-04 09:30:00    62.1429\n",
       "2013-04-03 09:30:00    62.4686\n",
       "2013-04-02 09:30:00    62.5914\n",
       "2013-04-01 09:30:00    63.3857\n",
       "2013-03-28 09:30:00    64.5457\n",
       "2013-03-27 09:30:00    65.2571\n",
       "2013-03-26 09:30:00    66.5486\n",
       "2013-03-25 09:30:00    67.1357\n",
       "2013-03-22 09:30:00    66.0143\n",
       "2013-03-21 09:30:00    65.4257\n",
       "2013-03-20 09:30:00    65.3757\n",
       "2013-03-19 09:30:00    65.8529\n",
       "2013-03-18 09:30:00    65.3514\n",
       "2013-03-15 09:30:00    63.4614\n",
       "2013-03-14 09:30:00    62.0914\n",
       "2013-03-13 09:30:00    62.0714\n",
       "2013-03-12 09:30:00    62.6971\n",
       "2013-03-11 09:30:00    62.7157\n",
       "2013-03-08 09:30:00    62.2043\n",
       "2013-03-07 09:30:00    61.7157\n",
       "2013-03-06 09:30:00    62.1786\n",
       "2013-03-05 09:30:00      62.17\n",
       "Length: 1259, dtype: object"
      ]
     },
     "execution_count": 7,
     "metadata": {},
     "output_type": "execute_result"
    }
   ],
   "source": [
    "data_prep('AAPL.csv', 1)"
   ]
  },
  {
   "cell_type": "code",
   "execution_count": null,
   "metadata": {
    "collapsed": true
   },
   "outputs": [],
   "source": []
  }
 ],
 "metadata": {
  "kernelspec": {
   "display_name": "Python 2",
   "language": "python",
   "name": "python2"
  },
  "language_info": {
   "codemirror_mode": {
    "name": "ipython",
    "version": 2
   },
   "file_extension": ".py",
   "mimetype": "text/x-python",
   "name": "python",
   "nbconvert_exporter": "python",
   "pygments_lexer": "ipython2",
   "version": "2.7.14"
  }
 },
 "nbformat": 4,
 "nbformat_minor": 2
}
